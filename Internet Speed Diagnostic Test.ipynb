{
 "cells": [
  {
   "cell_type": "code",
   "execution_count": null,
   "metadata": {
    "collapsed": true
   },
   "outputs": [],
   "source": [
    "import os\n",
    "import sys\n",
    "import csv\n",
    "import datetime\n",
    "import time\n",
    "import tweepy \n",
    "import psutil\n",
    "\n",
    "def test_speed():\n",
    " \n",
    "        print ('Running SpeedTest....')\n",
    "        result = os.popen(\"C:fakepath/speedtest-cli.exe --secure --server ID\").read() #path to your speedtest.exe file and find the server id of the closest server to constantly test against\n",
    "        print ('SpeedTest Completed.')\n",
    "      \n",
    "       \n",
    "        lines = result.split('\\n')\n",
    "        print(result) \n",
    "        ts = time.time()\n",
    "        date =datetime.datetime.fromtimestamp(ts).strftime('%Y-%m-%d %H:%M:%S')   #record the time of test\n",
    "        \n",
    "        if \"Cannot\" in result:     #if no connection to speedtest = internet is down                 \n",
    "                ping = 1000\n",
    "                down = 0\n",
    "                up = 0\n",
    "       \n",
    "        else:                    #extract information from SpeedTest result\n",
    "                ping = lines[4] \n",
    "                down = lines[6][10:14]\n",
    "                up = lines[8][8:12]\n",
    "                \n",
    "        print (date,ping, down, up)\n",
    "        \n",
    "        output_file = open('data.csv', 'result')\n",
    "        writer = csv.writer(output_file)\n",
    "        row=(date,p,d,u)\n",
    "        writer.writerow(row)\n",
    "        output_file.close()\n",
    "        \n",
    "        print ('SpeedTest Logged.')\n",
    "            \n",
    "starttime=time.time()\n",
    "\n",
    "while True:\n",
    "  test()\n",
    "  time.sleep(600.0 - ((time.time() - starttime) % 60.0))  #test runs every 10 minutes\n",
    "    "
   ]
  }
 ],
 "metadata": {
  "kernelspec": {
   "display_name": "Python 3",
   "language": "python",
   "name": "python3"
  },
  "language_info": {
   "codemirror_mode": {
    "name": "ipython",
    "version": 3
   },
   "file_extension": ".py",
   "mimetype": "text/x-python",
   "name": "python",
   "nbconvert_exporter": "python",
   "pygments_lexer": "ipython3",
   "version": "3.6.3"
  }
 },
 "nbformat": 4,
 "nbformat_minor": 2
}
